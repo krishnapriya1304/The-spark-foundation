{
 "cells": [
  {
   "cell_type": "markdown",
   "id": "b6d6af37",
   "metadata": {},
   "source": [
    "# Prediction using supervised ML "
   ]
  },
  {
   "cell_type": "code",
   "execution_count": 2,
   "id": "1fe7a240",
   "metadata": {},
   "outputs": [],
   "source": [
    "import pandas as pd\n",
    "import numpy as np\n",
    "import matplotlib.pyplot as plt\n",
    "from sklearn.model_selection import train_test_split\n",
    "from sklearn.linear_model import LinearRegression\n"
   ]
  },
  {
   "cell_type": "markdown",
   "id": "af447020",
   "metadata": {},
   "source": [
    "## First, let's load the data into a programming environment\n"
   ]
  },
  {
   "cell_type": "code",
   "execution_count": 4,
   "id": "19caf748",
   "metadata": {},
   "outputs": [
    {
     "name": "stdout",
     "output_type": "stream",
     "text": [
      "    hours  scores\n",
      "0     2.5      21\n",
      "1     5.1      47\n",
      "2     3.2      27\n",
      "3     8.5      75\n",
      "4     3.5      30\n",
      "5     1.5      20\n",
      "6     9.2      88\n",
      "7     5.5      60\n",
      "8     8.3      81\n",
      "9     2.7      25\n",
      "10    7.7      85\n",
      "11    5.9      62\n",
      "12    4.5      41\n",
      "13    3.3      42\n",
      "14    1.1      17\n",
      "15    8.9      95\n",
      "16    2.5      30\n",
      "17    1.9      24\n",
      "18    6.1      67\n",
      "19    7.4      69\n",
      "20    2.7      30\n",
      "21    4.8      54\n",
      "22    3.8      35\n",
      "23    6.9      76\n",
      "24    7.8      86\n"
     ]
    }
   ],
   "source": [
    "data = pd.read_csv(\"studentData.csv\")\n",
    "print(data)"
   ]
  },
  {
   "cell_type": "markdown",
   "id": "71906342",
   "metadata": {},
   "source": [
    "## we can visualize the data using a scatter plot to see if there is any correlation between the hours studied and the scores \n"
   ]
  },
  {
   "cell_type": "code",
   "execution_count": 5,
   "id": "08b34711",
   "metadata": {},
   "outputs": [
    {
     "data": {
      "image/png": "[encoded data removed]",
      "text/plain": [
       "<Figure size 432x288 with 1 Axes>"
      ]
     },
     "metadata": {
      "needs_background": "light"
     },
     "output_type": "display_data"
    }
   ],
   "source": [
    "data.plot(x='hours', y='scores', style = 'o',color=\"red\")\n",
    "plt.title('Hours vs Percentage')\n",
    "plt.xlabel('Hours Studied')\n",
    "plt.ylabel('Percentage Score')\n",
    "plt.show()"
   ]
  },
  {
   "cell_type": "markdown",
   "id": "339921c7",
   "metadata": {},
   "source": [
    "## we can split the data into training and testing sets using scikit-learn's train_test_split function:\n"
   ]
  },
  {
   "cell_type": "code",
   "execution_count": 6,
   "id": "2442d053",
   "metadata": {},
   "outputs": [
    {
     "name": "stdout",
     "output_type": "stream",
     "text": [
      "[[2.5]\n",
      " [5.1]\n",
      " [3.2]\n",
      " [8.5]\n",
      " [3.5]\n",
      " [1.5]\n",
      " [9.2]\n",
      " [5.5]\n",
      " [8.3]\n",
      " [2.7]\n",
      " [7.7]\n",
      " [5.9]\n",
      " [4.5]\n",
      " [3.3]\n",
      " [1.1]\n",
      " [8.9]\n",
      " [2.5]\n",
      " [1.9]\n",
      " [6.1]\n",
      " [7.4]\n",
      " [2.7]\n",
      " [4.8]\n",
      " [3.8]\n",
      " [6.9]\n",
      " [7.8]]\n",
      "[21 47 27 75 30 20 88 60 81 25 85 62 41 42 17 95 30 24 67 69 30 54 35 76\n",
      " 86]\n"
     ]
    }
   ],
   "source": [
    "X = data.iloc[:,:-1].values\n",
    "y = data.iloc[:, 1].values\n",
    "print(X)\n",
    "print(y)\n",
    "X_train, X_test, y_train, y_test = train_test_split(X, y, test_size=0.2, random_state=0)"
   ]
  },
  {
   "cell_type": "markdown",
   "id": "64a6e76a",
   "metadata": {},
   "source": [
    "## We can then train a simple linear regression model on the training set\n"
   ]
  },
  {
   "cell_type": "code",
   "execution_count": 7,
   "id": "43b71b72",
   "metadata": {},
   "outputs": [
    {
     "name": "stdout",
     "output_type": "stream",
     "text": [
      "Training complete.\n"
     ]
    }
   ],
   "source": [
    "regressor = LinearRegression()\n",
    "regressor.fit(X_train, y_train)\n",
    "\n",
    "print(\"Training complete.\")"
   ]
  },
  {
   "cell_type": "markdown",
   "id": "1696bdfa",
   "metadata": {},
   "source": [
    "## Plotting the regression line\n"
   ]
  },
  {
   "cell_type": "code",
   "execution_count": 8,
   "id": "73b5431f",
   "metadata": {},
   "outputs": [
    {
     "data": {
      "image/png": "[encoded data removed]",
      "text/plain": [
       "<Figure size 432x288 with 1 Axes>"
      ]
     },
     "metadata": {
      "needs_background": "light"
     },
     "output_type": "display_data"
    }
   ],
   "source": [
    "line = regressor.coef_*X+regressor.intercept_\n",
    "\n",
    "# Plotting for the test data\n",
    "plt.scatter(X, y,color=\"violet\")\n",
    "plt.plot(X, line,color=\"green\");\n",
    "plt.show()"
   ]
  },
  {
   "cell_type": "markdown",
   "id": "68100c3c",
   "metadata": {},
   "source": [
    "## We can then make predictions on the testing set and compare them to the actual values\n"
   ]
  },
  {
   "cell_type": "code",
   "execution_count": 9,
   "id": "6c3b5003",
   "metadata": {},
   "outputs": [
    {
     "name": "stdout",
     "output_type": "stream",
     "text": [
      "   Actual  Predicted\n",
      "0      20  16.884145\n",
      "1      27  33.732261\n",
      "2      69  75.357018\n",
      "3      30  26.794801\n",
      "4      62  60.491033\n"
     ]
    }
   ],
   "source": [
    "y_pred = regressor.predict(X_test)\n",
    "\n",
    "df = pd.DataFrame({'Actual': y_test, 'Predicted': y_pred})\n",
    "print(df)"
   ]
  },
  {
   "cell_type": "markdown",
   "id": "25e1cc61",
   "metadata": {},
   "source": [
    "## Finally, we can use the model to make a prediction for a student who studies for 9.25 hours per day\n"
   ]
  },
  {
   "cell_type": "code",
   "execution_count": 10,
   "id": "cc927505",
   "metadata": {},
   "outputs": [
    {
     "name": "stdout",
     "output_type": "stream",
     "text": [
      "Predicted score for 9.25 hours of studying: 93.69%\n"
     ]
    }
   ],
   "source": [
    "hours = 9.25\n",
    "pred = regressor.predict([[hours]])\n",
    "print(\"Predicted score for {} hours of studying: {:.2f}%\".format(hours, pred[0]))\n"
   ]
  }
 ],
 "metadata": {
  "kernelspec": {
   "display_name": "Python 3 (ipykernel)",
   "language": "python",
   "name": "python3"
  },
  "language_info": {
   "codemirror_mode": {
    "name": "ipython",
    "version": 3
   },
   "file_extension": ".py",
   "mimetype": "text/x-python",
   "name": "python",
   "nbconvert_exporter": "python",
   "pygments_lexer": "ipython3",
   "version": "3.9.12"
  }
 },
 "nbformat": 4,
 "nbformat_minor": 5
}
